{
  "nbformat": 4,
  "nbformat_minor": 0,
  "metadata": {
    "colab": {
      "provenance": [],
      "authorship_tag": "ABX9TyNMmoCaQUs6Y6+HQ6ExeCSP",
      "include_colab_link": true
    },
    "kernelspec": {
      "name": "python3",
      "display_name": "Python 3"
    },
    "language_info": {
      "name": "python"
    }
  },
  "cells": [
    {
      "cell_type": "markdown",
      "metadata": {
        "id": "view-in-github",
        "colab_type": "text"
      },
      "source": [
        "<a href=\"https://colab.research.google.com/github/toshineb/amazon_discounts-webscrping/blob/main/amazon_discounts.ipynb\" target=\"_parent\"><img src=\"https://colab.research.google.com/assets/colab-badge.svg\" alt=\"Open In Colab\"/></a>"
      ]
    },
    {
      "cell_type": "code",
      "execution_count": 1,
      "metadata": {
        "id": "joL4LZnkBmfr"
      },
      "outputs": [],
      "source": [
        "import requests\n",
        "from bs4 import BeautifulSoup\n",
        "import pandas as pd"
      ]
    },
    {
      "cell_type": "code",
      "source": [
        "url = \"https://www.amazon.com/primeday?pd_rd_w=e7mp3&content-id=amzn1.sym.ee9a48e8-4341-4c6c-87e2-22817bd974de&pf_rd_p=ee9a48e8-4341-4c6c-87e2-22817bd974de&pf_rd_r=BY25GZF4NTPQK5XAJ2RK&pd_rd_wg=T5G5D&pd_rd_r=4fcd7905-9bd2-4c00-8353-28c61a140cf5&ref_=pd_hp_d_btf_unk_cta\"\n",
        "headers = {\"User-Agent\": \"Mozilla/5.0\"}\n",
        "html_content = requests.get(url, headers=headers).text"
      ],
      "metadata": {
        "id": "flI9z9lgDIOZ"
      },
      "execution_count": 6,
      "outputs": []
    },
    {
      "cell_type": "code",
      "source": [
        "# === STEP 2: Parse HTML ===\n",
        "soup = BeautifulSoup(html_content, \"lxml\")\n"
      ],
      "metadata": {
        "id": "iiOwzEqeDU7Y"
      },
      "execution_count": 7,
      "outputs": []
    },
    {
      "cell_type": "code",
      "source": [
        "# === STEP 3: Extract product details ===\n",
        "products = []\n",
        "cards = soup.find_all(\"li\", class_=\"a-carousel-card\")\n",
        "\n",
        "for card in cards:\n",
        "    try:\n",
        "        name_tag = card.select_one(\".dcl-product-label span\")\n",
        "        price_tag = card.select_one(\".dcl-product-price-new .a-offscreen\")\n",
        "        discount_tag = card.select_one(\"._badgeLabel_1frb3_1 span\")\n",
        "\n",
        "        name = name_tag.text.strip() if name_tag else \"N/A\"\n",
        "        price = price_tag.text.strip().replace(\"$\", \"\") if price_tag else \"N/A\"\n",
        "        discount = discount_tag.text.strip() if discount_tag else \"N/A\"\n",
        "\n",
        "        products.append({\n",
        "            \"Product Name\": name,\n",
        "            \"Price ($)\": price,\n",
        "            \"Discount\": discount\n",
        "        })\n",
        "\n",
        "    except Exception as e:\n",
        "        print(\"Error processing a card:\", e)\n"
      ],
      "metadata": {
        "id": "qJZKiUF6DX_E"
      },
      "execution_count": 8,
      "outputs": []
    },
    {
      "cell_type": "code",
      "source": [
        "# === STEP 4: Export to Excel ===\n",
        "df = pd.DataFrame(products)\n",
        "df.to_excel(\"amazon_discounts.xlsx\", index=False)\n",
        "print(\"Data saved to 'amazon_discounts.xlsx'\")"
      ],
      "metadata": {
        "colab": {
          "base_uri": "https://localhost:8080/"
        },
        "id": "LjbaYh9fERlR",
        "outputId": "4a63d333-87ea-45bc-9b6b-cd83ce3d4cc7"
      },
      "execution_count": 9,
      "outputs": [
        {
          "output_type": "stream",
          "name": "stdout",
          "text": [
            "✅ Data saved to 'amazon_discounts.xlsx'\n"
          ]
        }
      ]
    },
    {
      "cell_type": "markdown",
      "source": [
        "# **Second Data of non Prime SubscribSubscribers**"
      ],
      "metadata": {
        "id": "wWQc0BZdKIAs"
      }
    },
    {
      "cell_type": "code",
      "source": [
        "# Load the local HTML file\n",
        "with open(\"amazon_primeday.html\", \"r\", encoding=\"utf-8\") as file:\n",
        "    html = file.read()\n",
        "\n",
        "soup = BeautifulSoup(html, \"html.parser\")\n",
        "\n",
        "data = []"
      ],
      "metadata": {
        "id": "oWiPmfhMEUSG"
      },
      "execution_count": 10,
      "outputs": []
    },
    {
      "cell_type": "code",
      "source": [
        "# Loop through each product\n",
        "for item in soup.select(\"li.a-carousel-card\"):\n",
        "    try:\n",
        "        name = item.select_one(\".dcl-truncate span\").get_text(strip=True)\n",
        "    except:\n",
        "        name = None\n",
        "\n",
        "    try:\n",
        "        price = item.select_one(\".a-price .a-offscreen\").get_text(strip=True)\n",
        "    except:\n",
        "        price = None\n",
        "\n",
        "    try:\n",
        "        discount = item.select_one(\"._badgeLabel_1frb3_1 span\").get_text(strip=True)\n",
        "    except:\n",
        "        discount = None\n",
        "\n",
        "    # Only append if name or price is found\n",
        "    if name or price:\n",
        "        data.append({\n",
        "            \"Product Name\": name,\n",
        "            \"Price\": price,\n",
        "            \"Discount\": discount\n",
        "        })\n"
      ],
      "metadata": {
        "id": "s6PRWQ9rJvyH"
      },
      "execution_count": 11,
      "outputs": []
    },
    {
      "cell_type": "code",
      "source": [
        "# Convert to Excel\n",
        "df = pd.DataFrame(data)\n",
        "df.to_excel(\"primeday_products.xlsx\", index=False)\n",
        "\n",
        "print(\"Extracted and saved to primeday_products.xlsx\")"
      ],
      "metadata": {
        "colab": {
          "base_uri": "https://localhost:8080/"
        },
        "id": "Ddlk3tOkJzV6",
        "outputId": "8773b8ee-b0d9-4a22-9ec9-f1846f976fb9"
      },
      "execution_count": 12,
      "outputs": [
        {
          "output_type": "stream",
          "name": "stdout",
          "text": [
            "Extracted and saved to primeday_products.xlsx\n"
          ]
        }
      ]
    },
    {
      "cell_type": "code",
      "source": [],
      "metadata": {
        "id": "V6_kNC5YL_0T"
      },
      "execution_count": null,
      "outputs": []
    }
  ]
}